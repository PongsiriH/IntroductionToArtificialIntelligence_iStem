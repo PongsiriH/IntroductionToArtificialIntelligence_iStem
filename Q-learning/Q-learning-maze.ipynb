{
 "cells": [
  {
   "cell_type": "code",
   "execution_count": 1,
   "metadata": {},
   "outputs": [],
   "source": [
    "import numpy as np\n",
    "import random\n",
    "import matplotlib.pyplot as plt\n",
    "from maze_utils import load_board, plot_board\n",
    "from maze_utils import exceed_board"
   ]
  },
  {
   "cell_type": "code",
   "execution_count": 2,
   "metadata": {},
   "outputs": [
    {
     "data": {
      "image/png": "[encoded data removed]",
      "text/plain": [
       "<Figure size 500x500 with 1 Axes>"
      ]
     },
     "metadata": {},
     "output_type": "display_data"
    }
   ],
   "source": [
    "board = load_board('maze/1.png')\n",
    "XY_WALLS = tuple(zip(*np.where(board==np.inf))) # walls\n",
    "DIRECTION_MOVES = [(0,1), (0,-1), (-1,0), (1, 0)] # down, up, left, right\n",
    "XY_STARTING = (4, 3)  # starting node\n",
    "XY_TARGET = (5, 7)  # target node\n",
    "\n",
    "fig, ax = plt.subplots(figsize=(5,5))\n",
    "plot_board(ax, board, None, XY_STARTING, XY_TARGET)"
   ]
  },
  {
   "cell_type": "markdown",
   "metadata": {},
   "source": [
    "define environment"
   ]
  },
  {
   "cell_type": "code",
   "execution_count": 3,
   "metadata": {},
   "outputs": [],
   "source": [
    "class Environment:\n",
    "    def __init__(self, board, possible_directions, xy_start, xy_goal):\n",
    "        self.board = board\n",
    "        self.xy_start = xy_start\n",
    "        self.xy_current = xy_start\n",
    "        self.xy_goal = xy_goal\n",
    "        self.possible_directions = possible_directions\n",
    "    \n",
    "    def step(self, action):\n",
    "        done = False\n",
    "        reward = 0\n",
    "        \n",
    "        self.xy_current = (self.xy_current[0]+action[0], self.xy_current[1]+action[1])\n",
    "        \n",
    "        if self.xy_current == self.xy_goal:\n",
    "            reward = 100\n",
    "            done = True\n",
    "        \n",
    "        valid_moves = self.valid_actions(self.xy_current)\n",
    "        state = (self.xy_current, valid_moves)\n",
    "        return state, reward, done\n",
    "    \n",
    "    def reset(self):\n",
    "        self.xy_current = self.xy_start\n",
    "        valid_moves = self.valid_actions(self.xy_current)\n",
    "        state = (self.xy_current, valid_moves)\n",
    "        return state\n",
    "    \n",
    "    def valid_actions(self, state):\n",
    "        valid_actions = []\n",
    "        for action in self.possible_directions:\n",
    "            xy_new = (state[0] + action[0], state[1] + action[1])\n",
    "            if not exceed_board(xy_new, self.board.shape) and xy_new not in XY_WALLS:\n",
    "                valid_actions.append(action)\n",
    "        return valid_actions\n",
    "    \n",
    "    def plot(self):\n",
    "        plot_board(self.board, self.xy_current, self.xy_goal)"
   ]
  },
  {
   "cell_type": "code",
   "execution_count": 16,
   "metadata": {},
   "outputs": [],
   "source": [
    "class QAgent:\n",
    "    def __init__(self, env):\n",
    "        self.episodes = 100\n",
    "        self.learning_rate = 0.1\n",
    "        self.discount_factor = 0.95\n",
    "        self.epsilon = 1.0\n",
    "        self.min_epsilon = 0.01\n",
    "        self.epsilon_decay = 0.999\n",
    "        self.possible_actions = env.possible_directions\n",
    "        num_actions = len(self.possible_actions)\n",
    "        self.Q = np.zeros(env.board.shape + (num_actions, ))\n",
    "        \n",
    "    def select_action(self, state, inference=False):\n",
    "        xy, valid_actions = state\n",
    "        if np.random.rand() < self.epsilon and not inference:\n",
    "            # Exploration: select valid move randomly.\n",
    "            action = random.choice(valid_actions) \n",
    "        else:\n",
    "            # Exploition select the best valid move.\n",
    "            valid_actions_indices = [self.possible_actions.index(action) for action in valid_actions]\n",
    "            q_values = np.take(self.Q[xy], valid_actions_indices)\n",
    "            best_action_index = np.argmax(q_values)\n",
    "            action = valid_actions[best_action_index]\n",
    "        return action\n",
    "\n",
    "    def update_q_value(self, state, action, reward, next_state):\n",
    "        action_index = self.possible_actions.index(action)\n",
    "        future_reward = np.max(self.Q[next_state[0]])\n",
    "        current_q = self.Q[state[0]][action_index]\n",
    "        self.Q[state[0]][action_index] = current_q + self.learning_rate * (reward + self.discount_factor * future_reward - current_q)\n",
    "\n",
    "    def decay_epsilon(self):\n",
    "        self.epsilon = max(self.min_epsilon, self.epsilon * self.epsilon_decay)"
   ]
  },
  {
   "cell_type": "code",
   "execution_count": 17,
   "metadata": {},
   "outputs": [],
   "source": [
    "env = Environment(board, DIRECTION_MOVES, XY_STARTING, XY_TARGET)\n",
    "agent = QAgent(env)"
   ]
  },
  {
   "cell_type": "code",
   "execution_count": 18,
   "metadata": {},
   "outputs": [
    {
     "name": "stdout",
     "output_type": "stream",
     "text": [
      "Episode 10: 100\n",
      "Episode 20: 100\n",
      "Episode 30: 100\n",
      "Episode 40: 100\n",
      "Episode 50: 100\n",
      "Episode 60: 100\n",
      "Episode 70: 100\n",
      "Episode 80: 100\n",
      "Episode 90: 100\n",
      "Episode 100: 100\n"
     ]
    }
   ],
   "source": [
    "scores = []\n",
    "for episode in range(agent.episodes):\n",
    "    state = env.reset()  # Reset environment to initial state for each episode\n",
    "    done = False\n",
    "    score = 0\n",
    "    while not done:\n",
    "        action = agent.select_action(state)  # Choose action based on current policy\n",
    "        new_state, reward, done = env.step(action)  # Take the action in the environment\n",
    "        agent.update_q_value(state, action, reward, new_state)  # Update Q-values\n",
    "        state = new_state  # Move to the next state\n",
    "        score += reward\n",
    "    agent.decay_epsilon()\n",
    "    scores.append(score)\n",
    "    if (episode+1) % 10 == 0:\n",
    "        print(f'Episode {episode+1}: {score}')"
   ]
  },
  {
   "cell_type": "markdown",
   "metadata": {},
   "source": [
    "# Figure"
   ]
  },
  {
   "cell_type": "code",
   "execution_count": 19,
   "metadata": {},
   "outputs": [
    {
     "name": "stdout",
     "output_type": "stream",
     "text": [
      "Episode 10: 100\n",
      "Episode 20: 100\n",
      "Episode 30: 100\n",
      "Episode 40: 100\n",
      "Episode 50: 100\n",
      "Episode 60: 100\n",
      "Episode 70: 100\n",
      "Episode 80: 100\n",
      "Episode 90: 100\n",
      "Episode 100: 100\n"
     ]
    },
    {
     "data": {
      "image/png": "[encoded data removed]",
      "text/plain": [
       "<Figure size 1200x1200 with 6 Axes>"
      ]
     },
     "metadata": {},
     "output_type": "display_data"
    }
   ],
   "source": [
    "from matplotlib.colors import Normalize\n",
    "fig, axes = plt.subplots(1, 5, figsize=(12, 12))\n",
    "norm = Normalize(vmin=0, vmax=100)\n",
    "plot_indices = [10, 20, 50, 80, 100]\n",
    "i = 0\n",
    "\n",
    "env = Environment(board, DIRECTION_MOVES, XY_STARTING, XY_TARGET)\n",
    "agent = QAgent(env)\n",
    "\n",
    "scores = []\n",
    "for episode in range(agent.episodes):\n",
    "    state = env.reset()  # Reset environment to initial state for each episode\n",
    "    done = False\n",
    "    score = 0\n",
    "    while not done:\n",
    "        action = agent.select_action(state)  # Choose action based on current policy\n",
    "        new_state, reward, done = env.step(action)  # Take the action in the environment\n",
    "        agent.update_q_value(state, action, reward, new_state)  # Update Q-values\n",
    "        state = new_state  # Move to the next state\n",
    "        score += reward\n",
    "    agent.decay_epsilon()\n",
    "    scores.append(score)\n",
    "    if (episode+1) % 10 == 0:\n",
    "        print(f'Episode {episode+1}: {score}')\n",
    "    \n",
    "    if episode+1 in plot_indices:\n",
    "        im = axes[i].imshow(agent.Q.max(axis=2), norm=norm, cmap='viridis')\n",
    "        axes[i].set_title(f'Episode {episode+1}')\n",
    "        axes[i].axis('off')\n",
    "        i = i + 1\n",
    "plt.tight_layout()\n",
    "cbar = fig.colorbar(im, ax=axes.ravel().tolist(), orientation='vertical', pad=0.02, shrink=0.15, aspect=20)\n",
    "plt.show()"
   ]
  },
  {
   "cell_type": "markdown",
   "metadata": {},
   "source": [
    "# Figure"
   ]
  },
  {
   "cell_type": "code",
   "execution_count": 20,
   "metadata": {},
   "outputs": [
    {
     "data": {
      "image/png": "[encoded data removed]",
      "text/plain": [
       "<Figure size 500x500 with 1 Axes>"
      ]
     },
     "metadata": {},
     "output_type": "display_data"
    }
   ],
   "source": [
    "board = load_board('maze/0.png')\n",
    "XY_WALLS = tuple(zip(*np.where(board==np.inf))) # walls\n",
    "DIRECTION_MOVES = [(0,1), (0,-1), (-1,0), (1, 0)] # down, up, left, right\n",
    "XY_STARTING = (1, 1)  # starting node\n",
    "XY_TARGET = (10, 7)  # target node\n",
    "\n",
    "fig, ax = plt.subplots(figsize=(5,5))\n",
    "plot_board(ax, board, None, XY_STARTING, XY_TARGET)"
   ]
  },
  {
   "cell_type": "code",
   "execution_count": 21,
   "metadata": {},
   "outputs": [
    {
     "name": "stdout",
     "output_type": "stream",
     "text": [
      "Episode 10: 100\n",
      "Episode 20: 100\n",
      "Episode 30: 100\n",
      "Episode 40: 100\n",
      "Episode 50: 100\n",
      "Episode 60: 100\n",
      "Episode 70: 100\n",
      "Episode 80: 100\n",
      "Episode 90: 100\n",
      "Episode 100: 100\n"
     ]
    },
    {
     "data": {
      "image/png": "[encoded data removed]",
      "text/plain": [
       "<Figure size 1200x250 with 6 Axes>"
      ]
     },
     "metadata": {},
     "output_type": "display_data"
    }
   ],
   "source": [
    "from matplotlib.colors import Normalize\n",
    "norm = Normalize(vmin=0, vmax=100)\n",
    "plot_indices = [10, 20, 50, 100]\n",
    "i = 1\n",
    "fig, axes = plt.subplots(1, 4+1, figsize=(12, 2.5))\n",
    "plot_board(axes[0], board, None, XY_STARTING, XY_TARGET)\n",
    "\n",
    "env = Environment(board, DIRECTION_MOVES, XY_STARTING, XY_TARGET)\n",
    "agent = QAgent(env)\n",
    "\n",
    "scores = []\n",
    "for episode in range(agent.episodes):\n",
    "    state = env.reset()  # Reset environment to initial state for each episode\n",
    "    done = False\n",
    "    score = 0\n",
    "    while not done:\n",
    "        action = agent.select_action(state)  # Choose action based on current policy\n",
    "        new_state, reward, done = env.step(action)  # Take the action in the environment\n",
    "        agent.update_q_value(state, action, reward, new_state)  # Update Q-values\n",
    "        state = new_state  # Move to the next state\n",
    "        score += reward\n",
    "    agent.decay_epsilon()\n",
    "    scores.append(score)\n",
    "    if (episode+1) % 10 == 0:\n",
    "        print(f'Episode {episode+1}: {score}')\n",
    "    \n",
    "    if episode+1 in plot_indices:\n",
    "        im = axes[i].imshow(agent.Q.max(axis=2), norm=norm, cmap='viridis')\n",
    "        axes[i].set_title(f'Episode {episode+1}')\n",
    "        axes[i].axis('off')\n",
    "        i = i + 1\n",
    "plt.tight_layout()\n",
    "cbar = fig.colorbar(im, ax=axes.ravel().tolist(), orientation='vertical', pad=0.02, shrink=0.7, aspect=20)\n",
    "plt.show()"
   ]
  }
 ],
 "metadata": {
  "kernelspec": {
   "display_name": "tflab",
   "language": "python",
   "name": "python3"
  },
  "language_info": {
   "codemirror_mode": {
    "name": "ipython",
    "version": 3
   },
   "file_extension": ".py",
   "mimetype": "text/x-python",
   "name": "python",
   "nbconvert_exporter": "python",
   "pygments_lexer": "ipython3",
   "version": "3.10.13"
  }
 },
 "nbformat": 4,
 "nbformat_minor": 2
}
