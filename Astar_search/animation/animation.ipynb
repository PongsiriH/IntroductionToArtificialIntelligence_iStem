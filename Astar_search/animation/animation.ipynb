{
 "cells": [
  {
   "cell_type": "markdown",
   "metadata": {},
   "source": [
    "Figure1: \n",
    "\n",
    "<video controls src=\"maze3_greedy.mp4\" title=\"Figure1\"></video>"
   ]
  },
  {
   "cell_type": "markdown",
   "metadata": {},
   "source": [
    "Figure 3a: actual cost $f(n)=g(n)$\n",
    "\n",
    "<video controls src=\"maze1_actual_cost_only.mp4\" title=\"Title\"></video>\n",
    "\n",
    "Figure 3b: heuristic cost $f(n)=h(n)$\n",
    "\n",
    "<video controls src=\"maze1_heuristic_cost_only.mp4\" title=\"Title\"></video>\n",
    "\n",
    "Figure 3c: both cost $f(n)=g(n)+h(n)$\n",
    "\n",
    "<video controls src=\"maze1_both_cost.mp4\" title=\"Title\"></video>"
   ]
  }
 ],
 "metadata": {
  "language_info": {
   "name": "python"
  }
 },
 "nbformat": 4,
 "nbformat_minor": 2
}
